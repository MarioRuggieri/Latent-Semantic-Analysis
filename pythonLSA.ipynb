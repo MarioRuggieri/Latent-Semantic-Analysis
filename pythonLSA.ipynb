{
  "nbformat": 4,
  "nbformat_minor": 0,
  "metadata": {
    "colab": {
      "name": "pythonLSA.ipynb",
      "provenance": [],
      "collapsed_sections": []
    },
    "kernelspec": {
      "name": "python3",
      "display_name": "Python 3"
    }
  },
  "cells": [
    {
      "cell_type": "markdown",
      "metadata": {
        "id": "xFZyJ3CTsFZ5"
      },
      "source": [
        "\n",
        "# **Python Latent Semantic Analysis (LSA) Tutorial**\n",
        "\n"
      ]
    },
    {
      "cell_type": "markdown",
      "metadata": {
        "id": "zv_9sEP1GW7B"
      },
      "source": [
        "Import dependencies:"
      ]
    },
    {
      "cell_type": "code",
      "metadata": {
        "id": "wyW9T8YkChjM"
      },
      "source": [
        "from sklearn.decomposition import TruncatedSVD\n",
        "from scipy.sparse import rand\n",
        "from sklearn.metrics.pairwise import cosine_similarity\n",
        "from numpy import argsort"
      ],
      "execution_count": null,
      "outputs": []
    },
    {
      "cell_type": "markdown",
      "metadata": {
        "id": "QCwoB0vAGVpy"
      },
      "source": [
        "In this tutorial we assume that rows represent samples and columns are features according to sklearn.\n",
        "\n",
        "Generate a random binary 150x100 matrix (150 samples, 100 features):\n",
        "\n",
        "\n",
        "\n"
      ]
    },
    {
      "cell_type": "code",
      "metadata": {
        "id": "LlJM9sLOCTsx",
        "outputId": "09c92843-5590-4e3e-b934-fc7726e360b4",
        "colab": {
          "base_uri": "https://localhost:8080/",
          "height": 34
        }
      },
      "source": [
        "B = rand(150, 100, density=0.3, format='csr')\n",
        "B.data[:] = 1\n",
        "print(\"B shape: \" + str(B.shape))"
      ],
      "execution_count": null,
      "outputs": [
        {
          "output_type": "stream",
          "text": [
            "B shape: (150, 100)\n"
          ],
          "name": "stdout"
        }
      ]
    },
    {
      "cell_type": "markdown",
      "metadata": {
        "id": "9hOW2rUgGoM3"
      },
      "source": [
        "Generate a random binary query (1x100 vector):"
      ]
    },
    {
      "cell_type": "code",
      "metadata": {
        "id": "NHv5aq31FJ7O",
        "outputId": "d1630467-eeee-4c96-be95-f5959b888d63",
        "colab": {
          "base_uri": "https://localhost:8080/",
          "height": 34
        }
      },
      "source": [
        "query = rand(1, 100, density=0.3, format='csr')\n",
        "query.data[:] = 1\n",
        "print(\"Query shape: \" + str(query.shape))"
      ],
      "execution_count": null,
      "outputs": [
        {
          "output_type": "stream",
          "text": [
            "Query shape: (1, 100)\n"
          ],
          "name": "stdout"
        }
      ]
    },
    {
      "cell_type": "markdown",
      "metadata": {
        "id": "M2CqPtQSHRR1"
      },
      "source": [
        "Generate the k-truncated B matrix using SVD decomposition:\n",
        "\n",
        "\n",
        "*   trunc_SVD_model is a TruncatedSVD object;\n",
        "*   fit_transform is a method of TruncatedSVD which computes the rank k SVD decomposition of B and the approximated B matrix;\n",
        "*   the SVD decomposition is saved into the trunc_SVD_model state.\n",
        "\n",
        "In this case k=5:"
      ]
    },
    {
      "cell_type": "code",
      "metadata": {
        "id": "pVZXtEO1Ek8O",
        "outputId": "1efe579c-c701-4fc7-ba7b-bd2fcee4b5c8",
        "colab": {
          "base_uri": "https://localhost:8080/",
          "height": 34
        }
      },
      "source": [
        "trunc_SVD_model = TruncatedSVD(n_components=5)\n",
        "approx_B = trunc_SVD_model.fit_transform(B)\n",
        "print(\"Approximated B shape: \" + str(approx_B.shape))"
      ],
      "execution_count": null,
      "outputs": [
        {
          "output_type": "stream",
          "text": [
            "Approximated B shape: (150, 5)\n"
          ],
          "name": "stdout"
        }
      ]
    },
    {
      "cell_type": "markdown",
      "metadata": {
        "id": "gKBpnq85HQKL"
      },
      "source": [
        "Transform the query for the new B using the transform method of trunc_SVD_model:\n",
        "\n"
      ]
    },
    {
      "cell_type": "code",
      "metadata": {
        "id": "yGKy38KdGMd7",
        "outputId": "4fffcd37-77b8-4837-f81e-72781595a0d7",
        "colab": {
          "base_uri": "https://localhost:8080/",
          "height": 51
        }
      },
      "source": [
        "transformed_query = trunc_SVD_model.transform(query)\n",
        "print(\"Transformed query: \" + str(transformed_query))\n",
        "print(\"Query shape: \" + str(transformed_query.shape))"
      ],
      "execution_count": null,
      "outputs": [
        {
          "output_type": "stream",
          "text": [
            "Transformed query: [[ 2.89472577  0.33361881 -0.34122844  0.40161553 -0.45117078]]\n",
            "Query shape: (1, 5)\n"
          ],
          "name": "stdout"
        }
      ]
    },
    {
      "cell_type": "markdown",
      "metadata": {
        "id": "1OsSbpUJIC4-"
      },
      "source": [
        "Compute cosine similarities between the transformed query and the column vectors of B:"
      ]
    },
    {
      "cell_type": "code",
      "metadata": {
        "id": "rVzZxVUyIOtl",
        "outputId": "e9a11c1c-5145-47fb-e3e2-1d386519fd4b",
        "colab": {
          "base_uri": "https://localhost:8080/",
          "height": 34
        }
      },
      "source": [
        "similarities = cosine_similarity(approx_B, transformed_query)\n",
        "print(\"Similarities shape: \" + str(similarities.shape))"
      ],
      "execution_count": null,
      "outputs": [
        {
          "output_type": "stream",
          "text": [
            "Similarities shape: (150, 1)\n"
          ],
          "name": "stdout"
        }
      ]
    },
    {
      "cell_type": "markdown",
      "metadata": {
        "id": "ALJGZhxeNUXN"
      },
      "source": [
        "Let's take the indexes of the n most similarity documents:"
      ]
    },
    {
      "cell_type": "code",
      "metadata": {
        "id": "Ll1hZAtSNUhY",
        "outputId": "c72365ec-f1dd-4690-a6e3-082d5572d7bd",
        "colab": {
          "base_uri": "https://localhost:8080/",
          "height": 51
        }
      },
      "source": [
        "n=3\n",
        "indexes = np.argsort(similarities.flat)[-n:]\n",
        "print(\"Top n documents: \" + str(indexes))\n",
        "print(\"Top n similarities: \" + str(similarities.flat[indexes]))"
      ],
      "execution_count": null,
      "outputs": [
        {
          "output_type": "stream",
          "text": [
            "Top n documents: [135  26 130]\n",
            "Top n similarities: [0.9810957  0.98346939 0.99006088]\n"
          ],
          "name": "stdout"
        }
      ]
    }
  ]
}